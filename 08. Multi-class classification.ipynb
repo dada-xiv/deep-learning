{
 "cells": [
  {
   "cell_type": "markdown",
   "id": "daba20f2",
   "metadata": {},
   "source": [
    "# Multi-class classification"
   ]
  },
  {
   "cell_type": "markdown",
   "id": "ac3ce55e",
   "metadata": {},
   "source": [
    "Consider if we randomly select k samples from a sample space consisting of N classes. Our objective is to determine the probability of the frequencies of classes present within those k samples. If a problem involves more than two classes like this, it is referred to as **multi-class classification**. In scikit-learn, character strings can be used as target values for multiple classes.\n",
    "\n",
    "One approach we could consider is using the K-nearest neighbers (KNN) algorithm to determine the order of probabilities. KNN identifies the nearest neighbors, allowing us to assign probabilities based on the nearest classes. Then we may utilize the probabilities of the nearest classes as the probabilities for the respective classes in question."
   ]
  },
  {
   "cell_type": "code",
   "execution_count": 9,
   "id": "bb4fb323",
   "metadata": {
    "scrolled": true
   },
   "outputs": [
    {
     "name": "stdout",
     "output_type": "stream",
     "text": [
      "  Species  Weight  Length  Diagonal   Height   Width\n",
      "0   Bream   242.0    25.4      30.0  11.5200  4.0200\n",
      "1   Bream   290.0    26.3      31.2  12.4800  4.3056\n",
      "2   Bream   340.0    26.5      31.1  12.3778  4.6961\n",
      "3   Bream   363.0    29.0      33.5  12.7300  4.4555\n",
      "4   Bream   430.0    29.0      34.0  12.4440  5.1340\n"
     ]
    }
   ],
   "source": [
    "import pandas as pd\n",
    "\n",
    "fish = pd.read_csv('fish.csv')\n",
    "print(fish.head())"
   ]
  },
  {
   "cell_type": "markdown",
   "id": "1784f4ca",
   "metadata": {},
   "source": [
    "To identify the various species features present in this CSV dataset, we can use the `unique()` method from pandas."
   ]
  },
  {
   "cell_type": "code",
   "execution_count": 14,
   "id": "75be2d0c",
   "metadata": {},
   "outputs": [
    {
     "name": "stdout",
     "output_type": "stream",
     "text": [
      "['Bream' 'Roach' 'Whitefish' 'Parkki' 'Perch' 'Pike' 'Smelt']\n",
      "['Species', 'Weight', 'Length', 'Diagonal', 'Height', 'Width']\n"
     ]
    }
   ],
   "source": [
    "print(pd.unique(fish['Species']))\n",
    "print(fish.columns.tolist())"
   ]
  },
  {
   "cell_type": "markdown",
   "id": "ad5ed816",
   "metadata": {},
   "source": [
    "We can consider the `Species` feature as the target data, and the remaining columns can be chosen as the input data. We can utilize `df[array]` to select multiple columns from the DataFrame `df` and create a new DataFrame. Additionally, we can convert the resulting DataFrame into a NumPy array by using `df[array].to_numpy()`."
   ]
  },
  {
   "cell_type": "code",
   "execution_count": 21,
   "id": "e6a4d173",
   "metadata": {},
   "outputs": [
    {
     "name": "stdout",
     "output_type": "stream",
     "text": [
      "['Bream' 'Bream' 'Bream' 'Bream' 'Bream']\n",
      "[[242.      25.4     30.      11.52     4.02  ]\n",
      " [290.      26.3     31.2     12.48     4.3056]\n",
      " [340.      26.5     31.1     12.3778   4.6961]\n",
      " [363.      29.      33.5     12.73     4.4555]\n",
      " [430.      29.      34.      12.444    5.134 ]]\n"
     ]
    }
   ],
   "source": [
    "fish_target = fish['Species'].to_numpy()\n",
    "fish_input = fish[['Weight', 'Length', 'Diagonal', 'Height', 'Width']].to_numpy()\n",
    "\n",
    "print(fish_target[:5])\n",
    "print(fish_input[:5])"
   ]
  },
  {
   "cell_type": "markdown",
   "id": "19ff1fb2",
   "metadata": {},
   "source": [
    "Then we proceed to split the input data into training data and test data. After the split, we perform preprocessing by normalizing the input datasets. Note that we should use the statistical values, such as mean and standard deviation, calculated from the training set to transfrom the test set.\n",
    "\n",
    "Once the preprocessing is complete, we train the KNN model and evaluate its performance by checking the scores.\n",
    "\n",
    "We are using the names of the features (character strings) as target values. However, when these names are passed to a scikit-learn model, the order of the target class names may not necessarily match the order we obtained from `pd.unique(fish['Species'])`. In the `KNeighborsClassifier`, the `classes_` attribute provides the ordered list of unique target classes. After fitting the model, we can access this ordered list using `kn.classes_`."
   ]
  },
  {
   "cell_type": "code",
   "execution_count": 25,
   "id": "e3c16348",
   "metadata": {},
   "outputs": [
    {
     "name": "stdout",
     "output_type": "stream",
     "text": [
      "['Bream' 'Parkki' 'Perch' 'Pike' 'Roach' 'Smelt' 'Whitefish']\n",
      "score : 0.8907563025210085 (training data)\n",
      "score : 0.85 (test data)\n"
     ]
    }
   ],
   "source": [
    "from sklearn.model_selection import train_test_split\n",
    "from sklearn.preprocessing import StandardScaler\n",
    "from sklearn.neighbors import KNeighborsClassifier\n",
    "\n",
    "train_input, test_input, train_target, test_target = train_test_split(\n",
    "    fish_input, fish_target, random_state = 42)\n",
    "\n",
    "# Normalizer\n",
    "ss = StandardScaler()\n",
    "# Train the normalizer\n",
    "ss.fit(train_input)\n",
    "\n",
    "# Normalizing\n",
    "train_scaled = ss.transform(train_input)\n",
    "test_scaled = ss.transform(test_input)\n",
    "\n",
    "# Model\n",
    "kn = KNeighborsClassifier(n_neighbors=3) # default: n_neighbors=5\n",
    "kn.fit(train_scaled, train_target)\n",
    "\n",
    "# Check the unique classes\n",
    "print(kn.classes_)\n",
    "\n",
    "# Scores\n",
    "score_by_training = kn.score(train_scaled, train_target)\n",
    "score = kn.score(test_scaled, test_target)\n",
    "print(f\"score : {score_by_training} (training data)\")\n",
    "print(f\"score : {score} (test data)\")"
   ]
  },
  {
   "cell_type": "markdown",
   "id": "d4307b3a",
   "metadata": {},
   "source": [
    "We can utilize the `kn.predict()` method to obtain the probability of each class for specific data. For example, calling `kn.predict(test_scaled[:5])` will provide the predictions for the first five target data points. If we want to examine the probabilities of each class instead of the predictions themselves, we can use `proba = kn.predict_proba(test_scaled[:5])`.\n",
    "\n",
    "To obtain rounded numeric values, we can use the `round()` function from NumPy. By default, it rounds to the first decimal place after the decimal point. However, we can specify the desired number of decimal places using the `decimals` parameter. For instance, `np.round(number or array, decimals=4)` allows us to round the number or array to four decimal places."
   ]
  },
  {
   "cell_type": "code",
   "execution_count": 43,
   "id": "50c116dc",
   "metadata": {},
   "outputs": [
    {
     "name": "stdout",
     "output_type": "stream",
     "text": [
      "   Bream  Parkki   Perch  Pike   Roach  Smelt  Whitefish\n",
      "0    0.0     0.0  1.0000   0.0  0.0000    0.0        0.0\n",
      "1    0.0     0.0  0.0000   0.0  0.0000    1.0        0.0\n",
      "2    0.0     0.0  0.0000   1.0  0.0000    0.0        0.0\n",
      "3    0.0     0.0  0.6667   0.0  0.3333    0.0        0.0\n",
      "4    0.0     0.0  0.6667   0.0  0.3333    0.0        0.0\n",
      "['Perch' 'Smelt' 'Pike' 'Perch' 'Perch']\n"
     ]
    }
   ],
   "source": [
    "import pandas as pd\n",
    "import numpy as np\n",
    "\n",
    "classes = kn.classes_ # The unique classes\n",
    "proba = np.round(kn.predict_proba(test_scaled[:5]), decimals=4)\n",
    "\n",
    "# DataFrame to combine the result into a table\n",
    "result_df = pd.DataFrame(proba, columns = classes)\n",
    "\n",
    "print(result_df)\n",
    "print(kn.predict(test_scaled[:5]))"
   ]
  },
  {
   "cell_type": "markdown",
   "id": "b498569e",
   "metadata": {},
   "source": [
    "To compare these resulting probabilities and identify the correct nearest neighbor, let's list the nearest neighbors of a specific sample point. For example, we can obtain the fourth sample point from the test data by extracting it using `test_scaled[3:4]`."
   ]
  },
  {
   "cell_type": "code",
   "execution_count": 47,
   "id": "05c2b877",
   "metadata": {},
   "outputs": [
    {
     "name": "stdout",
     "output_type": "stream",
     "text": [
      "[['Roach' 'Perch' 'Perch']]\n"
     ]
    }
   ],
   "source": [
    "# Neighbor 'training samples' for a 'test point'\n",
    "distances, indexes = kn.kneighbors(test_scaled[3:4]) # After training\n",
    "\n",
    "print(train_target[indexes])"
   ]
  },
  {
   "cell_type": "markdown",
   "id": "c7594cc9",
   "metadata": {},
   "source": [
    "This confirms the resulting probabilities mentioned above. However, when using `KNeighborsClassifier(n_neighbors=3)` with three nearest neighbors, the possible probabilities are limited to 0/3, 1/3, 2/3, and 3/3. To obtain more refined probabilities, we may need to consider alternative methods."
   ]
  }
 ],
 "metadata": {
  "kernelspec": {
   "display_name": "Python 3 (ipykernel)",
   "language": "python",
   "name": "python3"
  },
  "language_info": {
   "codemirror_mode": {
    "name": "ipython",
    "version": 3
   },
   "file_extension": ".py",
   "mimetype": "text/x-python",
   "name": "python",
   "nbconvert_exporter": "python",
   "pygments_lexer": "ipython3",
   "version": "3.11.2"
  }
 },
 "nbformat": 4,
 "nbformat_minor": 5
}
