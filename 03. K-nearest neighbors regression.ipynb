{
 "cells": [
  {
   "cell_type": "markdown",
   "id": "daba20f2",
   "metadata": {},
   "source": [
    "# K-nearest neighbors regression (KNN-Regression)"
   ]
  },
  {
   "cell_type": "markdown",
   "id": "d852b38e",
   "metadata": {},
   "source": [
    "Supervised learning can be broadly classified into classification and **regression**. Regression involves predicting a value instead of classifying into specific classes. For example, predicting the economic growth rate next year or predicting the time of delivery are both regression problems.\n",
    "\n",
    "KNN works by selecting the k nearest samples to the given sample and determining the class based on the most frequent one. KNN-Regression works in a similar way, but instead of classes, it predicts a certain value. To predict the value for a given sample, the nearest k samples are considered, and the simplest way to make a prediction is by calculating the mean value.\n",
    "\n",
    "To use KNN or KNN-Regression in scikit-learn, we need to combine the data into a single dataset and create a **2D array-like** where row represents a ample and each column represents a feature. Hence, even if the data is one-dimensional with shape (length, ), we should convert it into (length, 1) by using the **reshape()** function. In NumPy, the -1 argument in the reshape function is used to automatically determine the size of one dimension while maintaining the other dimensions. Hence iff we want to reshape an array into (length, 1), we can reshape it using array.reshape(-1,1), where using -1 instead of len(array) automatically determines the appropriate size based on the length of the array."
   ]
  },
  {
   "cell_type": "code",
   "execution_count": 1,
   "id": "4f886f85",
   "metadata": {},
   "outputs": [
    {
     "data": {
      "image/png": "[encoded data removed]",
      "text/plain": [
       "<Figure size 640x480 with 1 Axes>"
      ]
     },
     "metadata": {},
     "output_type": "display_data"
    }
   ],
   "source": [
    "import numpy as np\n",
    "import matplotlib.pyplot as plt\n",
    "\n",
    "#data : perch length and weight\n",
    "perch_length = np.array(\n",
    "    [8.4, 13.7, 15.0, 16.2, 17.4, 18.0, 18.7, 19.0, 19.6, 20.0, \n",
    "     21.0, 21.0, 21.0, 21.3, 22.0, 22.0, 22.0, 22.0, 22.0, 22.5, \n",
    "     22.5, 22.7, 23.0, 23.5, 24.0, 24.0, 24.6, 25.0, 25.6, 26.5, \n",
    "     27.3, 27.5, 27.5, 27.5, 28.0, 28.7, 30.0, 32.8, 34.5, 35.0, \n",
    "     36.5, 36.0, 37.0, 37.0, 39.0, 39.0, 39.0, 40.0, 40.0, 40.0, \n",
    "     40.0, 42.0, 43.0, 43.0, 43.5, 44.0])\n",
    "perch_weight = np.array(\n",
    "    [5.9, 32.0, 40.0, 51.5, 70.0, 100.0, 78.0, 80.0, 85.0, 85.0, \n",
    "     110.0, 115.0, 125.0, 130.0, 120.0, 120.0, 130.0, 135.0, 110.0, \n",
    "     130.0, 150.0, 145.0, 150.0, 170.0, 225.0, 145.0, 188.0, 180.0, \n",
    "     197.0, 218.0, 300.0, 260.0, 265.0, 250.0, 250.0, 300.0, 320.0, \n",
    "     514.0, 556.0, 840.0, 685.0, 700.0, 700.0, 690.0, 900.0, 650.0, \n",
    "     820.0, 850.0, 900.0, 1015.0, 820.0, 1100.0, 1000.0, 1100.0, \n",
    "     1000.0, 1000.0])\n",
    "perch_length = perch_length.reshape(-1,1)\n",
    "perch_weight = perch_weight.reshape(-1,1)\n",
    "\n",
    "plt.scatter(perch_length, perch_weight)\n",
    "plt.xlabel('length')\n",
    "plt.ylabel('weight')\n",
    "plt.show()"
   ]
  },
  {
   "cell_type": "markdown",
   "id": "920563ad",
   "metadata": {},
   "source": [
    "In scikit-learn, KNN-Regression is implemented using the **KNeighborsRegressor** class. The fit() method is used to train the models, and the model's performance can be evaluated using the score() method.\n",
    "\n",
    "Unlike classification problems, regression problems cannot estimate the exact value, because target values and prediction are arbitrary numerical values. Hence, the evaluation of the score is done by calculating the **coefficient of determination** or simply $R^2$. This value is calculated by \n",
    "\n",
    "$$\n",
    "R^2 = 1 - \\frac{\\sum(target-prediction)^2}{\\sum(target-mean)^2}\\,.\n",
    "$$\n",
    "\n",
    "That is, if the prediction is closer to the target value, the coefficient of determination approaches 1."
   ]
  },
  {
   "cell_type": "code",
   "execution_count": 2,
   "id": "b154bc62",
   "metadata": {},
   "outputs": [
    {
     "name": "stdout",
     "output_type": "stream",
     "text": [
      "score : 0.9698823289099254 (training data)\n",
      "score : 0.992809406101064 (test data)\n"
     ]
    }
   ],
   "source": [
    "from sklearn.model_selection import train_test_split\n",
    "from sklearn.neighbors import KNeighborsRegressor\n",
    "\n",
    "#input: perch_length, target: perch_weight\n",
    "train_input, test_input, train_target, test_target = train_test_split(\n",
    "    perch_length, perch_weight, random_state=42)\n",
    "\n",
    "knr = KNeighborsRegressor()\n",
    "knr.fit(train_input, train_target) #training\n",
    "score_by_training = knr.score(train_input, train_target)\n",
    "score = knr.score(test_input, test_target)\n",
    "\n",
    "print(f\"score : {score_by_training} (training data)\")\n",
    "print(f\"score : {score} (test data)\")\n"
   ]
  },
  {
   "cell_type": "markdown",
   "id": "8fcac1e9",
   "metadata": {},
   "source": [
    "The score is high, but this value may not provide us with a complete measure of how good the prediction is. By calculating the difference between the target value and the predicted value, we can evaluate the extent of deviation in the prediction. scikit-learn provides various evaluation metrics in the sklearn.metrics package, including **mean_absolute_error** which calculates the mean absolute error between the target values and the predictions.\n",
    "\n",
    "> **Mean Square Error (MSE)** is the average of the squared errors, calculated as:\n",
    "> $$ MSE = \\frac{1}{N}\\sum_{i=1}^n ({\\hat x}_i-x_i)^2 $$\n",
    "> Here, ${\\hat x}_i$ represents the predicted value and $x_i$ represents the actual value for the i-th data point. A smaller MSE value indicates better performance, and it is a commonly used loss function in regression tasks.\n",
    ">\n",
    "> **Mean Absolute Error (MAE)** is calculated as the average of the absolute differences between the predicted and actual values:\n",
    "> $$ MAE = \\frac{1}{N}\\sum_{i=1}^n |{\\hat x}_i-x_i| $$\n",
    "> Again, ${\\hat x}_i$ represents the predicted value and $x_i$ represents the actual value. A smaller MAE value indicates better performance. In regression tasks, MAE is commonly used as an evaluation metric."
   ]
  },
  {
   "cell_type": "code",
   "execution_count": 32,
   "id": "d16ade96",
   "metadata": {},
   "outputs": [
    {
     "name": "stdout",
     "output_type": "stream",
     "text": [
      "MAE is 19.157142857142862 (gram).\n"
     ]
    }
   ],
   "source": [
    "from sklearn.metrics import mean_absolute_error\n",
    "\n",
    "#making predictions based on test set (the result is an array)\n",
    "test_prediction = knr.predict(test_input)\n",
    "\n",
    "#calculating the mean absolute error about test set\n",
    "mae = mean_absolute_error(test_target, test_prediction)\n",
    "print(f\"MAE is {mae} (gram).\")"
   ]
  },
  {
   "cell_type": "markdown",
   "id": "730df448",
   "metadata": {},
   "source": [
    "## Overfitting and Underfitting\n",
    "\n",
    "Training the model on the training set often results in a good fit to the training data, leading to higher scores on the training set compared to the test set.\n",
    "\n",
    "If the model scores well on the training set but performs poorly on the test set, it indicates overfitting to the training set. In other words, a model that only performs well on the training set is unlikely to generalize well to new data or real-world scenarios.\n",
    "\n",
    "Conversely, underfitting occurs when the model is too simple to properly capture the underlying patterns in the training set. This can be observed when the test set scores higher than the training set or when both scores are lower. (In our case, the training set has a lower score than the test set, indicating that underfitting has occurred. This could be attributed to the small sizes of the training and test sets.)\n",
    "\n",
    "To address underfitting, we can slightly increase the complexity of the model. For example, in the k-nearest neighbors, reducing the number of neighbors (k) can make the model more sensitive to local patterns in the training set. Conversely, increasing the number of neighbors allows the model to capture more general patterns across the data."
   ]
  },
  {
   "cell_type": "code",
   "execution_count": 30,
   "id": "bbad1c51",
   "metadata": {},
   "outputs": [
    {
     "name": "stdout",
     "output_type": "stream",
     "text": [
      "score : 0.9804899950518966 (training data)\n",
      "score : 0.9746459963987609 (test data)\n"
     ]
    },
    {
     "data": {
      "image/png": "[encoded data removed]",
      "text/plain": [
       "<Figure size 640x480 with 1 Axes>"
      ]
     },
     "metadata": {},
     "output_type": "display_data"
    },
    {
     "name": "stdout",
     "output_type": "stream",
     "text": [
      "[[31.5]]cm perch will weigh [[456.66666667]]g.\n",
      "[[50]]cm perch will weigh [[1033.33333333]]g.\n"
     ]
    }
   ],
   "source": [
    "knr = KNeighborsRegressor()\n",
    "knr.n_neighbors = 3 #downsizing k size to address underfitting\n",
    "knr.fit(train_input, train_target) #training\n",
    "score_by_training = knr.score(train_input, train_target)\n",
    "score = knr.score(test_input, test_target)\n",
    "\n",
    "print(f\"score : {score_by_training} (training data)\")\n",
    "print(f\"score : {score} (test data)\")\n",
    "\n",
    "#new perch\n",
    "perchA_length = np.array([31.5]).reshape(-1,1)\n",
    "perchB_length = np.array([50]).reshape(-1,1)\n",
    "perchA_weight = knr.predict(perchA_length)\n",
    "perchB_weight = knr.predict(perchB_length)\n",
    "\n",
    "#distances to neighbors of sample (after training)\n",
    "distances, indexes = knr.kneighbors(perchB_length)\n",
    "\n",
    "plt.scatter(perch_length, perch_weight)\n",
    "plt.scatter(perchA_length, perchA_weight, marker='^')\n",
    "plt.scatter(perchB_length, perchB_weight, marker='^')\n",
    "plt.scatter(train_input[indexes], train_target[indexes], facecolor='#00bb66')\n",
    "plt.xlabel('length')\n",
    "plt.ylabel('weight')\n",
    "plt.show()\n",
    "\n",
    "print(f\"{perchA_length}cm perch will weigh {perchA_weight}g.\")\n",
    "print(f\"{perchB_length}cm perch will weigh {perchB_weight}g.\")\n"
   ]
  },
  {
   "cell_type": "markdown",
   "id": "f60afbda",
   "metadata": {},
   "source": [
    "Here we can observe the problem. From the scatter plot, it is evident that the longer the length, the greater the weight. By calculating the mean value of the weights of neighboring data points, we can determine that this value serves as the prediction. KNN regression can be sensitive to outliers and the distribution of the training data. If the new sample falls *outside the range or distribution* of the training set, it may lead to inaccurate or unexpected predictions."
   ]
  },
  {
   "cell_type": "code",
   "execution_count": 31,
   "id": "52aaa1ea",
   "metadata": {},
   "outputs": [
    {
     "data": {
      "text/plain": [
       "1033.3333333333333"
      ]
     },
     "execution_count": 31,
     "metadata": {},
     "output_type": "execute_result"
    }
   ],
   "source": [
    "import numpy as np\n",
    "\n",
    "np.mean(train_target[indexes])"
   ]
  }
 ],
 "metadata": {
  "kernelspec": {
   "display_name": "Python 3 (ipykernel)",
   "language": "python",
   "name": "python3"
  },
  "language_info": {
   "codemirror_mode": {
    "name": "ipython",
    "version": 3
   },
   "file_extension": ".py",
   "mimetype": "text/x-python",
   "name": "python",
   "nbconvert_exporter": "python",
   "pygments_lexer": "ipython3",
   "version": "3.11.2"
  }
 },
 "nbformat": 4,
 "nbformat_minor": 5
}
