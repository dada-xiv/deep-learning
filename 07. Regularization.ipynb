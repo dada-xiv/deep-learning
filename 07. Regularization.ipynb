{
 "cells": [
  {
   "cell_type": "markdown",
   "id": "daba20f2",
   "metadata": {},
   "source": [
    "# Regularization"
   ]
  },
  {
   "cell_type": "markdown",
   "id": "ac3ce55e",
   "metadata": {},
   "source": [
    "Regularization implies preventing the machine learning model from excessively fitting the training set. In other words, it helps to avoid overfitting the model to the training set. In linear regression, this corresponds to reducing the magnitudes of the coefficients associated with the features.\n",
    "\n",
    "Note that the scale of features can vary throught the normalization process. In general, when applying regularization, it is recommended to normalize the features first. Instead of directly calculating the mean and standard deviation vlaues to transform the features, the `StandardScaler` tarnsformer from scikit-learn can be used:\n",
    "\n",
    "```python\n",
    "from sklearn.preprocessing import StandardScaler\n",
    "\n",
    "# Normalizer\n",
    "ss = StandardScaler()\n",
    "# Train the normalizer\n",
    "ss.fit(train_poly)\n",
    "\n",
    "# Normalizing the input datasets (training and test)\n",
    "train_scaled = ss.transform(train_poly)\n",
    "test_scaled = ss.transform(test_poly)\n",
    "```\n",
    "\n",
    "By using StandardScaler, we can transform the feature values to have zero mean and unit variance."
   ]
  },
  {
   "cell_type": "code",
   "execution_count": 7,
   "id": "44f0a65e",
   "metadata": {},
   "outputs": [
    {
     "name": "stdout",
     "output_type": "stream",
     "text": [
      "Train input :  (42, 3)\n",
      "Train polynomial (by transformer):  (42, 55)\n"
     ]
    }
   ],
   "source": [
    "import pandas as pd\n",
    "import numpy as np\n",
    "from sklearn.model_selection import train_test_split\n",
    "from sklearn.preprocessing import PolynomialFeatures\n",
    "from sklearn.preprocessing import StandardScaler\n",
    "\n",
    "df = pd.read_csv('perch_full.csv')\n",
    "\n",
    "# Input data : [length, height, weight]\n",
    "perch_full = df.to_numpy()\n",
    "\n",
    "# Target data\n",
    "perch_weight = np.array(\n",
    "    [5.9, 32.0, 40.0, 51.5, 70.0, 100.0, 78.0, 80.0, 85.0, 85.0, \n",
    "     110.0, 115.0, 125.0, 130.0, 120.0, 120.0, 130.0, 135.0, 110.0, \n",
    "     130.0, 150.0, 145.0, 150.0, 170.0, 225.0, 145.0, 188.0, 180.0, \n",
    "     197.0, 218.0, 300.0, 260.0, 265.0, 250.0, 250.0, 300.0, 320.0, \n",
    "     514.0, 556.0, 840.0, 685.0, 700.0, 700.0, 690.0, 900.0, 650.0, \n",
    "     820.0, 850.0, 900.0, 1015.0, 820.0, 1100.0, 1000.0, 1100.0, \n",
    "     1000.0, 1000.0])\n",
    "\n",
    "# Training and Test sets\n",
    "train_input, test_input, train_target, test_target = train_test_split(\n",
    "    perch_full, perch_weight, random_state=42)\n",
    "\n",
    "# Transformer\n",
    "poly = PolynomialFeatures(degree=5, include_bias=False)\n",
    "# Train the transfomer\n",
    "poly.fit(train_input) \n",
    "\n",
    "# Trainsforming the input datasets (training and test)\n",
    "train_poly = poly.transform(train_input)\n",
    "test_poly = poly.transform(test_input)\n",
    "\n",
    "print(\"Train input : \", train_input.shape)\n",
    "print(\"Train polynomial (by transformer): \", train_poly.shape)\n",
    "# print(poly.get_feature_names_out())\n",
    "\n",
    "# Normalizer\n",
    "ss = StandardScaler()\n",
    "# Train the normalizer\n",
    "ss.fit(train_poly)\n",
    "\n",
    "# Normalizing the input datasets (training and test)\n",
    "train_scaled = ss.transform(train_poly)\n",
    "test_scaled = ss.transform(test_poly)"
   ]
  },
  {
   "cell_type": "markdown",
   "id": "90ca3ca7",
   "metadata": {},
   "source": [
    "There are two models, Ridge and Lasso, which combine linear regression with regularization. Each model applies regularization using different methods. Ridge regularization utilizes the squared values of the coefficients as the standard, whereas Lasso regularization applies the absolute values of the coefficients. In many cases, Ridge is preferred. Both methods reduce the coefficients, but Lasso has the ability to set some coefficients to zero. Scikit-learn provides implementations for both Ridge and Lasso models."
   ]
  },
  {
   "cell_type": "markdown",
   "id": "bd766934",
   "metadata": {},
   "source": [
    "## Ridge regularization\n",
    "\n",
    "Let's first apply Ridge regularization to this set of 55 over-generated features."
   ]
  },
  {
   "cell_type": "code",
   "execution_count": 8,
   "id": "7c83f67c",
   "metadata": {},
   "outputs": [
    {
     "name": "stdout",
     "output_type": "stream",
     "text": [
      "score : 0.9896101671037343 (training data)\n",
      "score : 0.9790693977615383 (test data)\n"
     ]
    }
   ],
   "source": [
    "from sklearn.linear_model import Ridge\n",
    "\n",
    "# Ridge model\n",
    "ridge = Ridge()\n",
    "\n",
    "# Training the model\n",
    "ridge.fit(train_scaled, train_target)\n",
    "\n",
    "# R2 scores\n",
    "score_by_training = ridge.score(train_scaled, train_target)\n",
    "score = ridge.score(test_scaled, test_target)\n",
    "print(f\"score : {score_by_training} (training data)\")\n",
    "print(f\"score : {score} (test data)\")"
   ]
  },
  {
   "cell_type": "markdown",
   "id": "301d1e25",
   "metadata": {},
   "source": [
    "Now we get the resionable score results.\n",
    "\n",
    "When using Ridge or Lasso regularization, we have the flexibility to set the amount of regularization manually. By adjusting the alpha parameter when creating the instance of the model, we can control the strength of regularization. Higher `alpha` values result in stronger regularization, leading to increased underfitting. Conversely, lower alpha values weaken the manipulation of coefficients, making the regularization closer to linear regression and potentially increasing the risk of overfitting.\n",
    "\n",
    "> The parameter `alpha` are not trained by the Ridge model, but rather they are specified beforehand. These types of parameters, which are directly determined by humans, are known as *hyperparameters*.\n",
    "\n",
    "To determine the optimal `alpha` value, we can plot a graph of R2 scores against different `alpha` values. The point where the R2 scores for the training and test sets are closest to each other represents the most suitable value."
   ]
  },
  {
   "cell_type": "code",
   "execution_count": 12,
   "id": "2c8309aa",
   "metadata": {
    "scrolled": false
   },
   "outputs": [
    {
     "data": {
      "image/png": "[encoded data removed]",
      "text/plain": [
       "<Figure size 640x480 with 1 Axes>"
      ]
     },
     "metadata": {},
     "output_type": "display_data"
    }
   ],
   "source": [
    "import matplotlib.pyplot as plt\n",
    "train_score = list()\n",
    "test_score = list()\n",
    "\n",
    "# Log interval\n",
    "alpha_list = [0.001, 0.01, 0.1, 1, 10, 100]\n",
    "\n",
    "for alpha in alpha_list:\n",
    "    # Ridge model\n",
    "    ridge = Ridge(alpha=alpha)\n",
    "    # Training the model\n",
    "    ridge.fit(train_scaled, train_target)\n",
    "    # Appending the scores\n",
    "    train_score.append(ridge.score(train_scaled, train_target))\n",
    "    test_score.append(ridge.score(test_scaled, test_target))\n",
    "\n",
    "plt.plot(np.log10(alpha_list), train_score, linestyle='dashed')\n",
    "plt.plot(np.log10(alpha_list), test_score)\n",
    "plt.xlabel('alpha')\n",
    "plt.ylabel('R2')\n",
    "plt.show()"
   ]
  },
  {
   "cell_type": "markdown",
   "id": "5c885262",
   "metadata": {},
   "source": [
    "The far left represents the typical behavior of overfitting, where the train score is excessively high and the test score is significantly low. The most appropriate `alpha` value is approximately $\\log_{10}\\alpha=-1$, which corresponds to $\\alpha=10^{-1}=0.1$."
   ]
  },
  {
   "cell_type": "code",
   "execution_count": 11,
   "id": "ad5d8496",
   "metadata": {},
   "outputs": [
    {
     "name": "stdout",
     "output_type": "stream",
     "text": [
      "score : 0.9903815817570366 (training data)\n",
      "score : 0.9827976465386937 (test data)\n"
     ]
    }
   ],
   "source": [
    "from sklearn.linear_model import Ridge\n",
    "\n",
    "# Ridge model\n",
    "ridge = Ridge(alpha=0.1)\n",
    "\n",
    "# Training the model\n",
    "ridge.fit(train_scaled, train_target)\n",
    "\n",
    "# R2 scores\n",
    "score_by_training = ridge.score(train_scaled, train_target)\n",
    "score = ridge.score(test_scaled, test_target)\n",
    "print(f\"score : {score_by_training} (training data)\")\n",
    "print(f\"score : {score} (test data)\")"
   ]
  },
  {
   "cell_type": "markdown",
   "id": "ff5d71ca",
   "metadata": {},
   "source": [
    "## Lasso regularization\n",
    "\n",
    "Now let's apply Lasso regularization to the set of 55 over-generated features."
   ]
  },
  {
   "cell_type": "code",
   "execution_count": 14,
   "id": "49f21201",
   "metadata": {},
   "outputs": [
    {
     "name": "stdout",
     "output_type": "stream",
     "text": [
      "score : 0.989789897208096 (training data)\n",
      "score : 0.9800593698421884 (test data)\n"
     ]
    }
   ],
   "source": [
    "from sklearn.linear_model import Lasso\n",
    "\n",
    "# Lasso model\n",
    "lasso = Lasso()\n",
    "\n",
    "# Training the model\n",
    "lasso.fit(train_scaled, train_target)\n",
    "\n",
    "# R2 scores\n",
    "score_by_training = lasso.score(train_scaled, train_target)\n",
    "score = lasso.score(test_scaled, test_target)\n",
    "print(f\"score : {score_by_training} (training data)\")\n",
    "print(f\"score : {score} (test data)\")"
   ]
  },
  {
   "cell_type": "markdown",
   "id": "eb1f3e38",
   "metadata": {},
   "source": [
    "Again, we can adjust the strength of the Lasso model training by modifying the `alpha` parameter. \n",
    "\n",
    "Note that during Lasso training, a `ConvergenceWarning` alert may occur. Scikit-learn's Lasso iteratively calculates the optimal values of coefficients, and this warning can be triggered when the specified number of iterations is reached. To ensure an adequate number of iternations, we can set the `max_iter` parameter to 10,000."
   ]
  },
  {
   "cell_type": "code",
   "execution_count": 19,
   "id": "ea847194",
   "metadata": {},
   "outputs": [
    {
     "name": "stderr",
     "output_type": "stream",
     "text": [
      "C:\\Users\\dada_\\AppData\\Roaming\\Python\\Python311\\site-packages\\sklearn\\linear_model\\_coordinate_descent.py:631: ConvergenceWarning: Objective did not converge. You might want to increase the number of iterations, check the scale of the features or consider increasing regularisation. Duality gap: 1.878e+04, tolerance: 5.183e+02\n",
      "  model = cd_fast.enet_coordinate_descent(\n",
      "C:\\Users\\dada_\\AppData\\Roaming\\Python\\Python311\\site-packages\\sklearn\\linear_model\\_coordinate_descent.py:631: ConvergenceWarning: Objective did not converge. You might want to increase the number of iterations, check the scale of the features or consider increasing regularisation. Duality gap: 1.297e+04, tolerance: 5.183e+02\n",
      "  model = cd_fast.enet_coordinate_descent(\n"
     ]
    },
    {
     "data": {
      "image/png": "[encoded data removed]",
      "text/plain": [
       "<Figure size 640x480 with 1 Axes>"
      ]
     },
     "metadata": {},
     "output_type": "display_data"
    }
   ],
   "source": [
    "import matplotlib.pyplot as plt\n",
    "train_score = list()\n",
    "test_score = list()\n",
    "\n",
    "# Log interval\n",
    "alpha_list = [0.001, 0.01, 0.1, 1, 10, 100]\n",
    "\n",
    "for alpha in alpha_list:\n",
    "    # Lasso model\n",
    "    lasso = Lasso(alpha=alpha, max_iter=10000)\n",
    "    # Training the model\n",
    "    lasso.fit(train_scaled, train_target)\n",
    "    # Appending the scores\n",
    "    train_score.append(lasso.score(train_scaled, train_target))\n",
    "    test_score.append(lasso.score(test_scaled, test_target))\n",
    "\n",
    "plt.plot(np.log10(alpha_list), train_score, linestyle='dashed')\n",
    "plt.plot(np.log10(alpha_list), test_score)\n",
    "plt.xlabel('alpha')\n",
    "plt.ylabel('R2')\n",
    "plt.show()"
   ]
  },
  {
   "cell_type": "markdown",
   "id": "9b9591ef",
   "metadata": {},
   "source": [
    "Again the far left side indicates overfitting behavior, while the far right side demonstrates significant underfitting. The most suitable `alpha` value in this case is approximately $\\log_{10}\\alpha=1$, which translates to $\\alpha=10^{1}=10$."
   ]
  },
  {
   "cell_type": "code",
   "execution_count": 23,
   "id": "97ec2636",
   "metadata": {},
   "outputs": [
    {
     "name": "stdout",
     "output_type": "stream",
     "text": [
      "score : 0.9888067471131867 (training data)\n",
      "score : 0.9824470598706695 (test data)\n"
     ]
    }
   ],
   "source": [
    "from sklearn.linear_model import Lasso\n",
    "\n",
    "# Lasso model\n",
    "lasso = Lasso(alpha=10)\n",
    "\n",
    "# Training the model\n",
    "lasso.fit(train_scaled, train_target)\n",
    "\n",
    "# R2 scores\n",
    "score_by_training = lasso.score(train_scaled, train_target)\n",
    "score = lasso.score(test_scaled, test_target)\n",
    "print(f\"score : {score_by_training} (training data)\")\n",
    "print(f\"score : {score} (test data)\")"
   ]
  },
  {
   "cell_type": "markdown",
   "id": "60b90a5e",
   "metadata": {},
   "source": [
    "Recall that Lasso regularization has the ability to set some coefficients to zero. Let's examine which coefficients have become zero."
   ]
  },
  {
   "cell_type": "code",
   "execution_count": 27,
   "id": "2425d552",
   "metadata": {},
   "outputs": [
    {
     "name": "stdout",
     "output_type": "stream",
     "text": [
      "Train input :  (42, 3)\n",
      "Train polynomial :  (42, 55)\n",
      "Train polynomial scaled:  (42, 55)\n",
      "[8.05565374 7.88725565 7.40784577 7.47123014 7.4410635  7.13971183\n",
      " 7.35784804 7.06234228 6.73795844 6.84005957 6.87336148 6.6183857\n",
      " 6.8710696  6.61574515 6.3563402  6.83406174 6.5770234  6.31624676\n",
      " 6.05577759 6.21635484 6.29581869 6.04864176 6.34766386 6.10026015\n",
      " 5.85963972 6.36997656 6.12185119 5.87989872 5.64753069 6.36135147\n",
      " 6.11192849 5.86802883 5.63295963 5.40863597 5.62391151 5.73948896\n",
      " 5.4841318  5.83255851 5.57749011 5.33543563 5.90030552 5.64566636\n",
      " 5.40327284 5.17665316 5.94034278 5.68605937 5.44318285 5.21516697\n",
      " 5.00401328 5.95086271 5.69667594 5.45304758 5.22331242 5.00940259\n",
      " 4.81193523]\n",
      "[ 0.          0.          0.         12.14852453 55.44856399 42.23100799\n",
      "  0.          0.         13.70596191  0.         43.2185952   5.7033775\n",
      " 47.46254536  7.42309425 11.85823365  0.          0.         13.53038193\n",
      " 21.22111356  0.          0.          0.          0.          0.\n",
      "  0.         18.66993032  0.          0.          0.         15.81041778\n",
      "  0.          0.          0.          0.          0.          0.\n",
      "  0.          0.          0.          0.          0.          0.\n",
      "  0.          0.         18.14672268  0.          0.          0.\n",
      "  0.         15.51272953  0.          0.          0.          0.\n",
      "  0.        ]\n",
      "40\n"
     ]
    }
   ],
   "source": [
    "print(\"Train input : \", train_input.shape)\n",
    "print(\"Train polynomial : \", train_poly.shape)\n",
    "print(\"Train polynomial scaled: \", train_scaled.shape)\n",
    "\n",
    "print(ridge.coef_)\n",
    "print(lasso.coef_)\n",
    "print(np.sum(lasso.coef_ == 0))"
   ]
  },
  {
   "cell_type": "markdown",
   "id": "2bd9c9dc",
   "metadata": {},
   "source": [
    "As a result, 40 coefficients in Lasso have been reduced to zero. Out of the 55 features we provided, Lasso has only utilized 15 features. This demonstrates how Lasso can be effective in extracting more meaningful features."
   ]
  }
 ],
 "metadata": {
  "kernelspec": {
   "display_name": "Python 3 (ipykernel)",
   "language": "python",
   "name": "python3"
  },
  "language_info": {
   "codemirror_mode": {
    "name": "ipython",
    "version": 3
   },
   "file_extension": ".py",
   "mimetype": "text/x-python",
   "name": "python",
   "nbconvert_exporter": "python",
   "pygments_lexer": "ipython3",
   "version": "3.11.2"
  }
 },
 "nbformat": 4,
 "nbformat_minor": 5
}
